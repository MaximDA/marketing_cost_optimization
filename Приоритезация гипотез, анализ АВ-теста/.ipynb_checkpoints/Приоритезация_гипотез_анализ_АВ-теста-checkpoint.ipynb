{
 "cells": [
  {
   "cell_type": "markdown",
   "metadata": {},
   "source": [
    "# Приоритезация гипотез и анализ А/В-теста"
   ]
  },
  {
   "cell_type": "markdown",
   "metadata": {},
   "source": [
    "Для повышения выручки крупного интернет-магазина аналитики совместо с маркетологами подготовили список из 9 гипотез.\n",
    "\n",
    "Цели:\n",
    "- Расставить приоритет подготовленных гипотез\n",
    "- После проведения А/В-тестирования проанализировать результаты"
   ]
  },
  {
   "cell_type": "markdown",
   "metadata": {},
   "source": [
    "## Содержание"
   ]
  },
  {
   "cell_type": "markdown",
   "metadata": {},
   "source": [
    "[Часть 1. Приоритизация гипотез](#1)\n",
    "<br>[Часть 2. Анализ A/B-теста](#2)\n",
    "<br>[2.1. Предобработка данных](#2.1)\n",
    "<br>[2.2. Анализ данных](#2.2)\n",
    "<br>[2.3. Расчет статистической значимости параметров групп](#2.3)\n",
    "<br>[2.3.1. Рассчет конверсии и среднего чека по \"сырым\" данным](#2.3.1)\n",
    "<br>[2.3.2. Рассчет конверсии и среднего чека по \"очищенным\" данным](#2.3.2)\n",
    "<br>[Часть 3. Выводы](#3)"
   ]
  },
  {
   "cell_type": "markdown",
   "metadata": {},
   "source": [
    "## Часть 1. Приоритизация гипотез<a class=\"anchor\" id=\"1\"></a>"
   ]
  },
  {
   "cell_type": "code",
   "execution_count": 1,
   "metadata": {},
   "outputs": [],
   "source": [
    "#импортируем библиотеки\n",
    "#в пандасе установим макс-ую ширину столбца, чтобы отображалось все содержимое\n",
    "import pandas as pd; pd.set_option('display.max_colwidth', None)\n",
    "import numpy as np\n",
    "import matplotlib.pyplot as plt\n",
    "import scipy.stats as st"
   ]
  },
  {
   "cell_type": "code",
   "execution_count": 2,
   "metadata": {},
   "outputs": [
    {
     "data": {
      "text/html": [
       "<div>\n",
       "<style scoped>\n",
       "    .dataframe tbody tr th:only-of-type {\n",
       "        vertical-align: middle;\n",
       "    }\n",
       "\n",
       "    .dataframe tbody tr th {\n",
       "        vertical-align: top;\n",
       "    }\n",
       "\n",
       "    .dataframe thead th {\n",
       "        text-align: right;\n",
       "    }\n",
       "</style>\n",
       "<table border=\"1\" class=\"dataframe\">\n",
       "  <thead>\n",
       "    <tr style=\"text-align: right;\">\n",
       "      <th></th>\n",
       "      <th>Hypothesis</th>\n",
       "      <th>Reach</th>\n",
       "      <th>Impact</th>\n",
       "      <th>Confidence</th>\n",
       "      <th>Efforts</th>\n",
       "    </tr>\n",
       "  </thead>\n",
       "  <tbody>\n",
       "    <tr>\n",
       "      <th>0</th>\n",
       "      <td>Добавить два новых канала привлечения трафика, что позволит привлекать на 30% больше пользователей</td>\n",
       "      <td>3</td>\n",
       "      <td>10</td>\n",
       "      <td>8</td>\n",
       "      <td>6</td>\n",
       "    </tr>\n",
       "    <tr>\n",
       "      <th>1</th>\n",
       "      <td>Запустить собственную службу доставки, что сократит срок доставки заказов</td>\n",
       "      <td>2</td>\n",
       "      <td>5</td>\n",
       "      <td>4</td>\n",
       "      <td>10</td>\n",
       "    </tr>\n",
       "    <tr>\n",
       "      <th>2</th>\n",
       "      <td>Добавить блоки рекомендаций товаров на сайт интернет магазина, чтобы повысить конверсию и средний чек заказа</td>\n",
       "      <td>8</td>\n",
       "      <td>3</td>\n",
       "      <td>7</td>\n",
       "      <td>3</td>\n",
       "    </tr>\n",
       "    <tr>\n",
       "      <th>3</th>\n",
       "      <td>Изменить структура категорий, что увеличит конверсию, т.к. пользователи быстрее найдут нужный товар</td>\n",
       "      <td>8</td>\n",
       "      <td>3</td>\n",
       "      <td>3</td>\n",
       "      <td>8</td>\n",
       "    </tr>\n",
       "    <tr>\n",
       "      <th>4</th>\n",
       "      <td>Изменить цвет фона главной страницы, чтобы увеличить вовлеченность пользователей</td>\n",
       "      <td>3</td>\n",
       "      <td>1</td>\n",
       "      <td>1</td>\n",
       "      <td>1</td>\n",
       "    </tr>\n",
       "    <tr>\n",
       "      <th>5</th>\n",
       "      <td>Добавить страницу отзывов клиентов о магазине, что позволит увеличить количество заказов</td>\n",
       "      <td>3</td>\n",
       "      <td>2</td>\n",
       "      <td>2</td>\n",
       "      <td>3</td>\n",
       "    </tr>\n",
       "    <tr>\n",
       "      <th>6</th>\n",
       "      <td>Показать на главной странице баннеры с актуальными акциями и распродажами, чтобы увеличить конверсию</td>\n",
       "      <td>5</td>\n",
       "      <td>3</td>\n",
       "      <td>8</td>\n",
       "      <td>3</td>\n",
       "    </tr>\n",
       "    <tr>\n",
       "      <th>7</th>\n",
       "      <td>Добавить форму подписки на все основные страницы, чтобы собрать базу клиентов для email-рассылок</td>\n",
       "      <td>10</td>\n",
       "      <td>7</td>\n",
       "      <td>8</td>\n",
       "      <td>5</td>\n",
       "    </tr>\n",
       "    <tr>\n",
       "      <th>8</th>\n",
       "      <td>Запустить акцию, дающую скидку на товар в день рождения</td>\n",
       "      <td>1</td>\n",
       "      <td>9</td>\n",
       "      <td>9</td>\n",
       "      <td>5</td>\n",
       "    </tr>\n",
       "  </tbody>\n",
       "</table>\n",
       "</div>"
      ],
      "text/plain": [
       "                                                                                                     Hypothesis  \\\n",
       "0            Добавить два новых канала привлечения трафика, что позволит привлекать на 30% больше пользователей   \n",
       "1                                     Запустить собственную службу доставки, что сократит срок доставки заказов   \n",
       "2  Добавить блоки рекомендаций товаров на сайт интернет магазина, чтобы повысить конверсию и средний чек заказа   \n",
       "3           Изменить структура категорий, что увеличит конверсию, т.к. пользователи быстрее найдут нужный товар   \n",
       "4                              Изменить цвет фона главной страницы, чтобы увеличить вовлеченность пользователей   \n",
       "5                      Добавить страницу отзывов клиентов о магазине, что позволит увеличить количество заказов   \n",
       "6          Показать на главной странице баннеры с актуальными акциями и распродажами, чтобы увеличить конверсию   \n",
       "7              Добавить форму подписки на все основные страницы, чтобы собрать базу клиентов для email-рассылок   \n",
       "8                                                       Запустить акцию, дающую скидку на товар в день рождения   \n",
       "\n",
       "   Reach  Impact  Confidence  Efforts  \n",
       "0      3      10           8        6  \n",
       "1      2       5           4       10  \n",
       "2      8       3           7        3  \n",
       "3      8       3           3        8  \n",
       "4      3       1           1        1  \n",
       "5      3       2           2        3  \n",
       "6      5       3           8        3  \n",
       "7     10       7           8        5  \n",
       "8      1       9           9        5  "
      ]
     },
     "execution_count": 2,
     "metadata": {},
     "output_type": "execute_result"
    }
   ],
   "source": [
    "#прочитаем файл и посмотрим на данные по гипотезам\n",
    "hypothesis = pd.read_csv('hypothesis.csv')\n",
    "hypothesis"
   ]
  },
  {
   "cell_type": "code",
   "execution_count": 3,
   "metadata": {},
   "outputs": [
    {
     "data": {
      "text/plain": [
       "Index(['Hypothesis', 'Reach', 'Impact', 'Confidence', 'Efforts'], dtype='object')"
      ]
     },
     "execution_count": 3,
     "metadata": {},
     "output_type": "execute_result"
    }
   ],
   "source": [
    "#выведем названия колонок, чтобы проверить, что нет лишних символов\n",
    "hypothesis.columns"
   ]
  },
  {
   "cell_type": "code",
   "execution_count": 4,
   "metadata": {},
   "outputs": [
    {
     "data": {
      "text/html": [
       "<div>\n",
       "<style scoped>\n",
       "    .dataframe tbody tr th:only-of-type {\n",
       "        vertical-align: middle;\n",
       "    }\n",
       "\n",
       "    .dataframe tbody tr th {\n",
       "        vertical-align: top;\n",
       "    }\n",
       "\n",
       "    .dataframe thead th {\n",
       "        text-align: right;\n",
       "    }\n",
       "</style>\n",
       "<table border=\"1\" class=\"dataframe\">\n",
       "  <thead>\n",
       "    <tr style=\"text-align: right;\">\n",
       "      <th></th>\n",
       "      <th>Hypothesis</th>\n",
       "      <th>Reach</th>\n",
       "      <th>Impact</th>\n",
       "      <th>Confidence</th>\n",
       "      <th>Efforts</th>\n",
       "      <th>ice</th>\n",
       "    </tr>\n",
       "  </thead>\n",
       "  <tbody>\n",
       "    <tr>\n",
       "      <th>0</th>\n",
       "      <td>Запустить акцию, дающую скидку на товар в день рождения</td>\n",
       "      <td>1</td>\n",
       "      <td>9</td>\n",
       "      <td>9</td>\n",
       "      <td>5</td>\n",
       "      <td>16.0</td>\n",
       "    </tr>\n",
       "    <tr>\n",
       "      <th>1</th>\n",
       "      <td>Добавить два новых канала привлечения трафика, что позволит привлекать на 30% больше пользователей</td>\n",
       "      <td>3</td>\n",
       "      <td>10</td>\n",
       "      <td>8</td>\n",
       "      <td>6</td>\n",
       "      <td>13.0</td>\n",
       "    </tr>\n",
       "    <tr>\n",
       "      <th>2</th>\n",
       "      <td>Добавить форму подписки на все основные страницы, чтобы собрать базу клиентов для email-рассылок</td>\n",
       "      <td>10</td>\n",
       "      <td>7</td>\n",
       "      <td>8</td>\n",
       "      <td>5</td>\n",
       "      <td>11.0</td>\n",
       "    </tr>\n",
       "    <tr>\n",
       "      <th>3</th>\n",
       "      <td>Показать на главной странице баннеры с актуальными акциями и распродажами, чтобы увеличить конверсию</td>\n",
       "      <td>5</td>\n",
       "      <td>3</td>\n",
       "      <td>8</td>\n",
       "      <td>3</td>\n",
       "      <td>8.0</td>\n",
       "    </tr>\n",
       "    <tr>\n",
       "      <th>4</th>\n",
       "      <td>Добавить блоки рекомендаций товаров на сайт интернет магазина, чтобы повысить конверсию и средний чек заказа</td>\n",
       "      <td>8</td>\n",
       "      <td>3</td>\n",
       "      <td>7</td>\n",
       "      <td>3</td>\n",
       "      <td>7.0</td>\n",
       "    </tr>\n",
       "    <tr>\n",
       "      <th>5</th>\n",
       "      <td>Запустить собственную службу доставки, что сократит срок доставки заказов</td>\n",
       "      <td>2</td>\n",
       "      <td>5</td>\n",
       "      <td>4</td>\n",
       "      <td>10</td>\n",
       "      <td>2.0</td>\n",
       "    </tr>\n",
       "    <tr>\n",
       "      <th>6</th>\n",
       "      <td>Изменить структура категорий, что увеличит конверсию, т.к. пользователи быстрее найдут нужный товар</td>\n",
       "      <td>8</td>\n",
       "      <td>3</td>\n",
       "      <td>3</td>\n",
       "      <td>8</td>\n",
       "      <td>1.0</td>\n",
       "    </tr>\n",
       "    <tr>\n",
       "      <th>7</th>\n",
       "      <td>Изменить цвет фона главной страницы, чтобы увеличить вовлеченность пользователей</td>\n",
       "      <td>3</td>\n",
       "      <td>1</td>\n",
       "      <td>1</td>\n",
       "      <td>1</td>\n",
       "      <td>1.0</td>\n",
       "    </tr>\n",
       "    <tr>\n",
       "      <th>8</th>\n",
       "      <td>Добавить страницу отзывов клиентов о магазине, что позволит увеличить количество заказов</td>\n",
       "      <td>3</td>\n",
       "      <td>2</td>\n",
       "      <td>2</td>\n",
       "      <td>3</td>\n",
       "      <td>1.0</td>\n",
       "    </tr>\n",
       "  </tbody>\n",
       "</table>\n",
       "</div>"
      ],
      "text/plain": [
       "                                                                                                     Hypothesis  \\\n",
       "0                                                       Запустить акцию, дающую скидку на товар в день рождения   \n",
       "1            Добавить два новых канала привлечения трафика, что позволит привлекать на 30% больше пользователей   \n",
       "2              Добавить форму подписки на все основные страницы, чтобы собрать базу клиентов для email-рассылок   \n",
       "3          Показать на главной странице баннеры с актуальными акциями и распродажами, чтобы увеличить конверсию   \n",
       "4  Добавить блоки рекомендаций товаров на сайт интернет магазина, чтобы повысить конверсию и средний чек заказа   \n",
       "5                                     Запустить собственную службу доставки, что сократит срок доставки заказов   \n",
       "6           Изменить структура категорий, что увеличит конверсию, т.к. пользователи быстрее найдут нужный товар   \n",
       "7                              Изменить цвет фона главной страницы, чтобы увеличить вовлеченность пользователей   \n",
       "8                      Добавить страницу отзывов клиентов о магазине, что позволит увеличить количество заказов   \n",
       "\n",
       "   Reach  Impact  Confidence  Efforts   ice  \n",
       "0      1       9           9        5  16.0  \n",
       "1      3      10           8        6  13.0  \n",
       "2     10       7           8        5  11.0  \n",
       "3      5       3           8        3   8.0  \n",
       "4      8       3           7        3   7.0  \n",
       "5      2       5           4       10   2.0  \n",
       "6      8       3           3        8   1.0  \n",
       "7      3       1           1        1   1.0  \n",
       "8      3       2           2        3   1.0  "
      ]
     },
     "execution_count": 4,
     "metadata": {},
     "output_type": "execute_result"
    }
   ],
   "source": [
    "#добавим столбец рассчитанным приоритетом по методике IСE\n",
    "hypothesis['ice'] = (hypothesis['Impact'] * hypothesis['Confidence'] / hypothesis['Efforts']).round()\n",
    "hypothesis.sort_values('ice', ascending=False).reset_index(drop=True)"
   ]
  },
  {
   "cell_type": "markdown",
   "metadata": {},
   "source": [
    "#### \"Запустить акцию, дающую скидку на товар в день рождения\"\n",
    "- Данная гипотеза получила максимальный балл (16.0) по методике ICE"
   ]
  },
  {
   "cell_type": "code",
   "execution_count": 5,
   "metadata": {},
   "outputs": [
    {
     "data": {
      "text/html": [
       "<div>\n",
       "<style scoped>\n",
       "    .dataframe tbody tr th:only-of-type {\n",
       "        vertical-align: middle;\n",
       "    }\n",
       "\n",
       "    .dataframe tbody tr th {\n",
       "        vertical-align: top;\n",
       "    }\n",
       "\n",
       "    .dataframe thead th {\n",
       "        text-align: right;\n",
       "    }\n",
       "</style>\n",
       "<table border=\"1\" class=\"dataframe\">\n",
       "  <thead>\n",
       "    <tr style=\"text-align: right;\">\n",
       "      <th></th>\n",
       "      <th>Hypothesis</th>\n",
       "      <th>Reach</th>\n",
       "      <th>Impact</th>\n",
       "      <th>Confidence</th>\n",
       "      <th>Efforts</th>\n",
       "      <th>ice</th>\n",
       "      <th>rise</th>\n",
       "    </tr>\n",
       "  </thead>\n",
       "  <tbody>\n",
       "    <tr>\n",
       "      <th>0</th>\n",
       "      <td>Добавить форму подписки на все основные страницы, чтобы собрать базу клиентов для email-рассылок</td>\n",
       "      <td>10</td>\n",
       "      <td>7</td>\n",
       "      <td>8</td>\n",
       "      <td>5</td>\n",
       "      <td>11.0</td>\n",
       "      <td>112.0</td>\n",
       "    </tr>\n",
       "    <tr>\n",
       "      <th>1</th>\n",
       "      <td>Добавить блоки рекомендаций товаров на сайт интернет магазина, чтобы повысить конверсию и средний чек заказа</td>\n",
       "      <td>8</td>\n",
       "      <td>3</td>\n",
       "      <td>7</td>\n",
       "      <td>3</td>\n",
       "      <td>7.0</td>\n",
       "      <td>56.0</td>\n",
       "    </tr>\n",
       "    <tr>\n",
       "      <th>2</th>\n",
       "      <td>Добавить два новых канала привлечения трафика, что позволит привлекать на 30% больше пользователей</td>\n",
       "      <td>3</td>\n",
       "      <td>10</td>\n",
       "      <td>8</td>\n",
       "      <td>6</td>\n",
       "      <td>13.0</td>\n",
       "      <td>40.0</td>\n",
       "    </tr>\n",
       "    <tr>\n",
       "      <th>3</th>\n",
       "      <td>Показать на главной странице баннеры с актуальными акциями и распродажами, чтобы увеличить конверсию</td>\n",
       "      <td>5</td>\n",
       "      <td>3</td>\n",
       "      <td>8</td>\n",
       "      <td>3</td>\n",
       "      <td>8.0</td>\n",
       "      <td>40.0</td>\n",
       "    </tr>\n",
       "    <tr>\n",
       "      <th>4</th>\n",
       "      <td>Запустить акцию, дающую скидку на товар в день рождения</td>\n",
       "      <td>1</td>\n",
       "      <td>9</td>\n",
       "      <td>9</td>\n",
       "      <td>5</td>\n",
       "      <td>16.0</td>\n",
       "      <td>16.0</td>\n",
       "    </tr>\n",
       "    <tr>\n",
       "      <th>5</th>\n",
       "      <td>Изменить структура категорий, что увеличит конверсию, т.к. пользователи быстрее найдут нужный товар</td>\n",
       "      <td>8</td>\n",
       "      <td>3</td>\n",
       "      <td>3</td>\n",
       "      <td>8</td>\n",
       "      <td>1.0</td>\n",
       "      <td>9.0</td>\n",
       "    </tr>\n",
       "    <tr>\n",
       "      <th>6</th>\n",
       "      <td>Запустить собственную службу доставки, что сократит срок доставки заказов</td>\n",
       "      <td>2</td>\n",
       "      <td>5</td>\n",
       "      <td>4</td>\n",
       "      <td>10</td>\n",
       "      <td>2.0</td>\n",
       "      <td>4.0</td>\n",
       "    </tr>\n",
       "    <tr>\n",
       "      <th>7</th>\n",
       "      <td>Добавить страницу отзывов клиентов о магазине, что позволит увеличить количество заказов</td>\n",
       "      <td>3</td>\n",
       "      <td>2</td>\n",
       "      <td>2</td>\n",
       "      <td>3</td>\n",
       "      <td>1.0</td>\n",
       "      <td>4.0</td>\n",
       "    </tr>\n",
       "    <tr>\n",
       "      <th>8</th>\n",
       "      <td>Изменить цвет фона главной страницы, чтобы увеличить вовлеченность пользователей</td>\n",
       "      <td>3</td>\n",
       "      <td>1</td>\n",
       "      <td>1</td>\n",
       "      <td>1</td>\n",
       "      <td>1.0</td>\n",
       "      <td>3.0</td>\n",
       "    </tr>\n",
       "  </tbody>\n",
       "</table>\n",
       "</div>"
      ],
      "text/plain": [
       "                                                                                                     Hypothesis  \\\n",
       "0              Добавить форму подписки на все основные страницы, чтобы собрать базу клиентов для email-рассылок   \n",
       "1  Добавить блоки рекомендаций товаров на сайт интернет магазина, чтобы повысить конверсию и средний чек заказа   \n",
       "2            Добавить два новых канала привлечения трафика, что позволит привлекать на 30% больше пользователей   \n",
       "3          Показать на главной странице баннеры с актуальными акциями и распродажами, чтобы увеличить конверсию   \n",
       "4                                                       Запустить акцию, дающую скидку на товар в день рождения   \n",
       "5           Изменить структура категорий, что увеличит конверсию, т.к. пользователи быстрее найдут нужный товар   \n",
       "6                                     Запустить собственную службу доставки, что сократит срок доставки заказов   \n",
       "7                      Добавить страницу отзывов клиентов о магазине, что позволит увеличить количество заказов   \n",
       "8                              Изменить цвет фона главной страницы, чтобы увеличить вовлеченность пользователей   \n",
       "\n",
       "   Reach  Impact  Confidence  Efforts   ice   rise  \n",
       "0     10       7           8        5  11.0  112.0  \n",
       "1      8       3           7        3   7.0   56.0  \n",
       "2      3      10           8        6  13.0   40.0  \n",
       "3      5       3           8        3   8.0   40.0  \n",
       "4      1       9           9        5  16.0   16.0  \n",
       "5      8       3           3        8   1.0    9.0  \n",
       "6      2       5           4       10   2.0    4.0  \n",
       "7      3       2           2        3   1.0    4.0  \n",
       "8      3       1           1        1   1.0    3.0  "
      ]
     },
     "execution_count": 5,
     "metadata": {},
     "output_type": "execute_result"
    }
   ],
   "source": [
    "#добавим столбец рассчитанным приоритетом по методике RIСE\n",
    "hypothesis['rise'] = (hypothesis['Reach'] * hypothesis['Impact'] * hypothesis['Confidence'] / hypothesis['Efforts']).round()\n",
    "hypothesis.sort_values('rise', ascending=False).reset_index(drop=True)"
   ]
  },
  {
   "cell_type": "markdown",
   "metadata": {},
   "source": [
    "#### \"Добавить форму подписки на все основные страницы, чтобы собрать базу клиентов для email-рассылок\"\n",
    "- Данная гипотеза получила максимальный балл (112.00) по методике RICE, а гипотеза про акцию в День рождения находится в середине списка\n",
    "- Оценки по отдельным компонентам у двух гипотез примерно одиноковое. Существенное различие в компоненте 'Охват'(Reach)\n",
    "- Охват у гипотезы с e-mail-рассылками  максимальный, так как направлен на всех пользователей. В отличие от акции с ДР, которая затрагивает только выборочных пользователей\n",
    "- Останавливаемся на гипотезе \"Добавить форму подписки на все основные страницы, чтобы собрать базу клиентов для email-рассылок\", так как она набрала больший балл среди остальных по методоке RICE, которая позволяет оценить и охват аудитории"
   ]
  },
  {
   "cell_type": "markdown",
   "metadata": {},
   "source": [
    "## Часть 2. Анализ A/B-теста<a class=\"anchor\" id=\"2\"></a>"
   ]
  },
  {
   "cell_type": "code",
   "execution_count": 6,
   "metadata": {},
   "outputs": [],
   "source": [
    "orders = pd.read_csv('orders.csv')\n",
    "visitors = pd.read_csv('visitors.csv')"
   ]
  },
  {
   "cell_type": "markdown",
   "metadata": {},
   "source": [
    "### 2.1. Предобработка данных<a class=\"anchor\" id=\"2.1\"></a>"
   ]
  },
  {
   "cell_type": "code",
   "execution_count": 7,
   "metadata": {},
   "outputs": [
    {
     "data": {
      "text/html": [
       "<div>\n",
       "<style scoped>\n",
       "    .dataframe tbody tr th:only-of-type {\n",
       "        vertical-align: middle;\n",
       "    }\n",
       "\n",
       "    .dataframe tbody tr th {\n",
       "        vertical-align: top;\n",
       "    }\n",
       "\n",
       "    .dataframe thead th {\n",
       "        text-align: right;\n",
       "    }\n",
       "</style>\n",
       "<table border=\"1\" class=\"dataframe\">\n",
       "  <thead>\n",
       "    <tr style=\"text-align: right;\">\n",
       "      <th></th>\n",
       "      <th>transactionId</th>\n",
       "      <th>visitorId</th>\n",
       "      <th>date</th>\n",
       "      <th>revenue</th>\n",
       "      <th>group</th>\n",
       "    </tr>\n",
       "  </thead>\n",
       "  <tbody>\n",
       "    <tr>\n",
       "      <th>0</th>\n",
       "      <td>3667963787</td>\n",
       "      <td>3312258926</td>\n",
       "      <td>2019-08-15</td>\n",
       "      <td>1650</td>\n",
       "      <td>B</td>\n",
       "    </tr>\n",
       "    <tr>\n",
       "      <th>1</th>\n",
       "      <td>2804400009</td>\n",
       "      <td>3642806036</td>\n",
       "      <td>2019-08-15</td>\n",
       "      <td>730</td>\n",
       "      <td>B</td>\n",
       "    </tr>\n",
       "    <tr>\n",
       "      <th>2</th>\n",
       "      <td>2961555356</td>\n",
       "      <td>4069496402</td>\n",
       "      <td>2019-08-15</td>\n",
       "      <td>400</td>\n",
       "      <td>A</td>\n",
       "    </tr>\n",
       "    <tr>\n",
       "      <th>3</th>\n",
       "      <td>3797467345</td>\n",
       "      <td>1196621759</td>\n",
       "      <td>2019-08-15</td>\n",
       "      <td>9759</td>\n",
       "      <td>B</td>\n",
       "    </tr>\n",
       "    <tr>\n",
       "      <th>4</th>\n",
       "      <td>2282983706</td>\n",
       "      <td>2322279887</td>\n",
       "      <td>2019-08-15</td>\n",
       "      <td>2308</td>\n",
       "      <td>B</td>\n",
       "    </tr>\n",
       "    <tr>\n",
       "      <th>5</th>\n",
       "      <td>182168103</td>\n",
       "      <td>935554773</td>\n",
       "      <td>2019-08-15</td>\n",
       "      <td>2210</td>\n",
       "      <td>B</td>\n",
       "    </tr>\n",
       "    <tr>\n",
       "      <th>6</th>\n",
       "      <td>398296753</td>\n",
       "      <td>2900797465</td>\n",
       "      <td>2019-08-15</td>\n",
       "      <td>1860</td>\n",
       "      <td>B</td>\n",
       "    </tr>\n",
       "    <tr>\n",
       "      <th>7</th>\n",
       "      <td>2626614568</td>\n",
       "      <td>78758296</td>\n",
       "      <td>2019-08-15</td>\n",
       "      <td>1044</td>\n",
       "      <td>A</td>\n",
       "    </tr>\n",
       "    <tr>\n",
       "      <th>8</th>\n",
       "      <td>1576988021</td>\n",
       "      <td>295230930</td>\n",
       "      <td>2019-08-15</td>\n",
       "      <td>13710</td>\n",
       "      <td>A</td>\n",
       "    </tr>\n",
       "    <tr>\n",
       "      <th>9</th>\n",
       "      <td>1506739906</td>\n",
       "      <td>1882260405</td>\n",
       "      <td>2019-08-15</td>\n",
       "      <td>1855</td>\n",
       "      <td>B</td>\n",
       "    </tr>\n",
       "  </tbody>\n",
       "</table>\n",
       "</div>"
      ],
      "text/plain": [
       "   transactionId   visitorId        date  revenue group\n",
       "0     3667963787  3312258926  2019-08-15     1650     B\n",
       "1     2804400009  3642806036  2019-08-15      730     B\n",
       "2     2961555356  4069496402  2019-08-15      400     A\n",
       "3     3797467345  1196621759  2019-08-15     9759     B\n",
       "4     2282983706  2322279887  2019-08-15     2308     B\n",
       "5      182168103   935554773  2019-08-15     2210     B\n",
       "6      398296753  2900797465  2019-08-15     1860     B\n",
       "7     2626614568    78758296  2019-08-15     1044     A\n",
       "8     1576988021   295230930  2019-08-15    13710     A\n",
       "9     1506739906  1882260405  2019-08-15     1855     B"
      ]
     },
     "execution_count": 7,
     "metadata": {},
     "output_type": "execute_result"
    }
   ],
   "source": [
    "#посмотрим на данные таблицы с заказами\n",
    "orders.head(10)"
   ]
  },
  {
   "cell_type": "code",
   "execution_count": 8,
   "metadata": {},
   "outputs": [
    {
     "name": "stdout",
     "output_type": "stream",
     "text": [
      "<class 'pandas.core.frame.DataFrame'>\n",
      "RangeIndex: 1197 entries, 0 to 1196\n",
      "Data columns (total 5 columns):\n",
      " #   Column         Non-Null Count  Dtype \n",
      "---  ------         --------------  ----- \n",
      " 0   transactionId  1197 non-null   int64 \n",
      " 1   visitorId      1197 non-null   int64 \n",
      " 2   date           1197 non-null   object\n",
      " 3   revenue        1197 non-null   int64 \n",
      " 4   group          1197 non-null   object\n",
      "dtypes: int64(3), object(2)\n",
      "memory usage: 46.9+ KB\n"
     ]
    }
   ],
   "source": [
    "orders.info()"
   ]
  },
  {
   "cell_type": "code",
   "execution_count": 9,
   "metadata": {},
   "outputs": [],
   "source": [
    "#преобразуем поле с датой заказа (date) в тип \"Дата\"\n",
    "orders['date'] = pd.to_datetime(orders['date'], format='%Y-%m-%d')"
   ]
  },
  {
   "cell_type": "code",
   "execution_count": 10,
   "metadata": {},
   "outputs": [
    {
     "data": {
      "text/plain": [
       "0"
      ]
     },
     "execution_count": 10,
     "metadata": {},
     "output_type": "execute_result"
    }
   ],
   "source": [
    "#проверим на наличие полных строк дубликатов в данных\n",
    "orders.duplicated().sum()"
   ]
  },
  {
   "cell_type": "code",
   "execution_count": 11,
   "metadata": {},
   "outputs": [
    {
     "data": {
      "text/plain": [
       "58"
      ]
     },
     "execution_count": 11,
     "metadata": {},
     "output_type": "execute_result"
    }
   ],
   "source": [
    "#посмотрим, не попали ли пользователи из группы \"А\" еще и в группу \"В\"\n",
    "#для это разобьем на группы\n",
    "ordersA = orders.query('group == \"A\"')\n",
    "ordersB = orders.query('group == \"B\"')\n",
    "\n",
    "# и найдем пересечение id пользователей (\"одинаковых пользователей\")\n",
    "similar_users = ordersB[ordersB['visitorId'].isin(ordersA['visitorId'].unique())]['visitorId'].unique()\n",
    "len(similar_users)"
   ]
  },
  {
   "cell_type": "markdown",
   "metadata": {},
   "source": [
    "#### 58 пользователей участвовали в обоих группах\n",
    "- Для корректного АВ-теста, пользователи должны быть разными, поэтому удалим одинаковых пользователей из обоих групп"
   ]
  },
  {
   "cell_type": "code",
   "execution_count": 12,
   "metadata": {},
   "outputs": [
    {
     "data": {
      "text/plain": [
       "-0.15719696969696972"
      ]
     },
     "execution_count": 12,
     "metadata": {},
     "output_type": "execute_result"
    }
   ],
   "source": [
    "#удалим \"одинаковых пользователей\"\n",
    "ordersB = ordersB.drop(labels=ordersB[ordersB['visitorId'].isin(similar_users)].index, axis=0)\n",
    "ordersA = ordersA.drop(labels=ordersA[ordersA['visitorId'].isin(similar_users)].index, axis=0)\n",
    "\n",
    "#посмотрим на соотношений кол-ва пользователей в группах\n",
    "ordersA['visitorId'].nunique() / ordersB['visitorId'].nunique() - 1"
   ]
  },
  {
   "cell_type": "markdown",
   "metadata": {},
   "source": [
    "#### В группе \"В\" на 15.7% больше пользователей, чем в группе \"А\"\n",
    "- При подсчете выручки будем иметь это в виду"
   ]
  },
  {
   "cell_type": "code",
   "execution_count": 13,
   "metadata": {},
   "outputs": [],
   "source": [
    "#соединим эти группы опять в одну таблицу orders\n",
    "orders = pd.concat([ordersA, ordersB], ignore_index=True)"
   ]
  },
  {
   "cell_type": "code",
   "execution_count": 14,
   "metadata": {},
   "outputs": [
    {
     "data": {
      "text/html": [
       "<div>\n",
       "<style scoped>\n",
       "    .dataframe tbody tr th:only-of-type {\n",
       "        vertical-align: middle;\n",
       "    }\n",
       "\n",
       "    .dataframe tbody tr th {\n",
       "        vertical-align: top;\n",
       "    }\n",
       "\n",
       "    .dataframe thead th {\n",
       "        text-align: right;\n",
       "    }\n",
       "</style>\n",
       "<table border=\"1\" class=\"dataframe\">\n",
       "  <thead>\n",
       "    <tr style=\"text-align: right;\">\n",
       "      <th></th>\n",
       "      <th>date</th>\n",
       "      <th>group</th>\n",
       "      <th>visitors</th>\n",
       "    </tr>\n",
       "  </thead>\n",
       "  <tbody>\n",
       "    <tr>\n",
       "      <th>0</th>\n",
       "      <td>2019-08-01</td>\n",
       "      <td>A</td>\n",
       "      <td>719</td>\n",
       "    </tr>\n",
       "    <tr>\n",
       "      <th>1</th>\n",
       "      <td>2019-08-02</td>\n",
       "      <td>A</td>\n",
       "      <td>619</td>\n",
       "    </tr>\n",
       "    <tr>\n",
       "      <th>2</th>\n",
       "      <td>2019-08-03</td>\n",
       "      <td>A</td>\n",
       "      <td>507</td>\n",
       "    </tr>\n",
       "    <tr>\n",
       "      <th>3</th>\n",
       "      <td>2019-08-04</td>\n",
       "      <td>A</td>\n",
       "      <td>717</td>\n",
       "    </tr>\n",
       "    <tr>\n",
       "      <th>4</th>\n",
       "      <td>2019-08-05</td>\n",
       "      <td>A</td>\n",
       "      <td>756</td>\n",
       "    </tr>\n",
       "  </tbody>\n",
       "</table>\n",
       "</div>"
      ],
      "text/plain": [
       "         date group  visitors\n",
       "0  2019-08-01     A       719\n",
       "1  2019-08-02     A       619\n",
       "2  2019-08-03     A       507\n",
       "3  2019-08-04     A       717\n",
       "4  2019-08-05     A       756"
      ]
     },
     "execution_count": 14,
     "metadata": {},
     "output_type": "execute_result"
    }
   ],
   "source": [
    "#посмотрим на данные таблицы с визитами\n",
    "visitors.head()"
   ]
  },
  {
   "cell_type": "code",
   "execution_count": 15,
   "metadata": {},
   "outputs": [
    {
     "name": "stdout",
     "output_type": "stream",
     "text": [
      "<class 'pandas.core.frame.DataFrame'>\n",
      "RangeIndex: 62 entries, 0 to 61\n",
      "Data columns (total 3 columns):\n",
      " #   Column    Non-Null Count  Dtype \n",
      "---  ------    --------------  ----- \n",
      " 0   date      62 non-null     object\n",
      " 1   group     62 non-null     object\n",
      " 2   visitors  62 non-null     int64 \n",
      "dtypes: int64(1), object(2)\n",
      "memory usage: 1.6+ KB\n"
     ]
    }
   ],
   "source": [
    "visitors.info()"
   ]
  },
  {
   "cell_type": "code",
   "execution_count": 16,
   "metadata": {},
   "outputs": [],
   "source": [
    "#преобразуем поле с датой визита (date) в тип \"Дата\"\n",
    "visitors['date'] = pd.to_datetime(visitors['date'], format='%Y-%m-%d')"
   ]
  },
  {
   "cell_type": "code",
   "execution_count": 17,
   "metadata": {},
   "outputs": [
    {
     "data": {
      "text/plain": [
       "0"
      ]
     },
     "execution_count": 17,
     "metadata": {},
     "output_type": "execute_result"
    }
   ],
   "source": [
    "#проверим на наличие полных строк дубликатов в данных\n",
    "visitors.duplicated().sum()"
   ]
  },
  {
   "cell_type": "code",
   "execution_count": 18,
   "metadata": {},
   "outputs": [
    {
     "data": {
      "text/plain": [
       "count                      62\n",
       "unique                     31\n",
       "top       2019-08-02 00:00:00\n",
       "freq                        2\n",
       "first     2019-08-01 00:00:00\n",
       "last      2019-08-31 00:00:00\n",
       "Name: date, dtype: object"
      ]
     },
     "execution_count": 18,
     "metadata": {},
     "output_type": "execute_result"
    }
   ],
   "source": [
    "#посмотрим на данные в поле с датой визита\n",
    "visitors['date'].describe()"
   ]
  },
  {
   "cell_type": "markdown",
   "metadata": {},
   "source": [
    "#### Данные чистые\n",
    "- Таблицы с заказами и визитами не имеют полных дубликатов\n",
    "- Поле дата('date') в обоих таблицах преоразовано в тип \"Дата\"\n",
    "- Данные представлены за август 2019 по дням"
   ]
  },
  {
   "cell_type": "markdown",
   "metadata": {},
   "source": [
    "### 2.2. Анализ данных<a class=\"anchor\" id=\"2.2\"></a>"
   ]
  },
  {
   "cell_type": "code",
   "execution_count": 19,
   "metadata": {},
   "outputs": [],
   "source": [
    "#сгруппируем таблицу с заказами по дням\n",
    "daily_orders = (orders\n",
    "                .groupby(['date','group'], as_index=False)\n",
    "                .agg({'transactionId':'count','visitorId':'nunique', 'revenue':'sum'})\n",
    "               )\n",
    "daily_orders.columns = ['date','group','n_orders', 'n_users', 'revenue']"
   ]
  },
  {
   "cell_type": "code",
   "execution_count": 20,
   "metadata": {},
   "outputs": [],
   "source": [
    "#объединим таблицы с заказами и визитами\n",
    "daily_data = pd.merge(daily_orders, visitors, on=['date','group']).reset_index(drop=True)"
   ]
  },
  {
   "cell_type": "code",
   "execution_count": 21,
   "metadata": {},
   "outputs": [
    {
     "data": {
      "text/html": [
       "<div>\n",
       "<style scoped>\n",
       "    .dataframe tbody tr th:only-of-type {\n",
       "        vertical-align: middle;\n",
       "    }\n",
       "\n",
       "    .dataframe tbody tr th {\n",
       "        vertical-align: top;\n",
       "    }\n",
       "\n",
       "    .dataframe thead th {\n",
       "        text-align: right;\n",
       "    }\n",
       "</style>\n",
       "<table border=\"1\" class=\"dataframe\">\n",
       "  <thead>\n",
       "    <tr style=\"text-align: right;\">\n",
       "      <th></th>\n",
       "      <th>date</th>\n",
       "      <th>group</th>\n",
       "      <th>n_orders</th>\n",
       "      <th>n_users</th>\n",
       "      <th>revenue</th>\n",
       "      <th>visitors</th>\n",
       "    </tr>\n",
       "  </thead>\n",
       "  <tbody>\n",
       "    <tr>\n",
       "      <th>0</th>\n",
       "      <td>2019-08-01</td>\n",
       "      <td>A</td>\n",
       "      <td>23</td>\n",
       "      <td>19</td>\n",
       "      <td>142779</td>\n",
       "      <td>719</td>\n",
       "    </tr>\n",
       "    <tr>\n",
       "      <th>1</th>\n",
       "      <td>2019-08-01</td>\n",
       "      <td>B</td>\n",
       "      <td>17</td>\n",
       "      <td>17</td>\n",
       "      <td>59758</td>\n",
       "      <td>713</td>\n",
       "    </tr>\n",
       "    <tr>\n",
       "      <th>2</th>\n",
       "      <td>2019-08-02</td>\n",
       "      <td>A</td>\n",
       "      <td>19</td>\n",
       "      <td>18</td>\n",
       "      <td>91602</td>\n",
       "      <td>619</td>\n",
       "    </tr>\n",
       "    <tr>\n",
       "      <th>3</th>\n",
       "      <td>2019-08-02</td>\n",
       "      <td>B</td>\n",
       "      <td>23</td>\n",
       "      <td>22</td>\n",
       "      <td>162043</td>\n",
       "      <td>581</td>\n",
       "    </tr>\n",
       "    <tr>\n",
       "      <th>4</th>\n",
       "      <td>2019-08-03</td>\n",
       "      <td>A</td>\n",
       "      <td>24</td>\n",
       "      <td>24</td>\n",
       "      <td>112473</td>\n",
       "      <td>507</td>\n",
       "    </tr>\n",
       "  </tbody>\n",
       "</table>\n",
       "</div>"
      ],
      "text/plain": [
       "        date group  n_orders  n_users  revenue  visitors\n",
       "0 2019-08-01     A        23       19   142779       719\n",
       "1 2019-08-01     B        17       17    59758       713\n",
       "2 2019-08-02     A        19       18    91602       619\n",
       "3 2019-08-02     B        23       22   162043       581\n",
       "4 2019-08-03     A        24       24   112473       507"
      ]
     },
     "execution_count": 21,
     "metadata": {},
     "output_type": "execute_result"
    }
   ],
   "source": [
    "daily_data.head()"
   ]
  },
  {
   "cell_type": "code",
   "execution_count": 22,
   "metadata": {},
   "outputs": [],
   "source": [
    "#посчитаем коммулятивные данные для группы \"А\" и \"В\"\n",
    "groupA = daily_data.query('group == \"A\"')\n",
    "commulative_A = groupA.apply(lambda x:\n",
    "                                 groupA[(groupA['date'] <= x['date'])] \\\n",
    "                                 .agg({'date':'max','group':'max','n_orders':'sum','n_users':'sum',\n",
    "                                       'visitors':'sum','revenue':'sum'}),\n",
    "                                 axis=1).sort_values(by='date')\n",
    "\n",
    "groupB = daily_data.query('group == \"B\"')\n",
    "commulative_B = groupB.apply(lambda x:\n",
    "                                 groupB[(groupB['date'] <= x['date'])] \\\n",
    "                                 .agg({'date':'max','group':'max','n_orders':'sum','n_users':'sum',\n",
    "                                       'visitors':'sum','revenue':'sum'}),\n",
    "                                 axis=1).sort_values(by='date')"
   ]
  },
  {
   "cell_type": "code",
   "execution_count": 23,
   "metadata": {},
   "outputs": [],
   "source": [
    "#определим функцию для построения линейного графика для разных групп \"А\" и \"В\"\n",
    "def my_plot(xA,yA, xB, yB):\n",
    "    fig, ax = plt.subplots(figsize=(16,9))\n",
    "    plt.plot(xA, yA, label='A')\n",
    "    plt.plot(xB, yB, label='B')\n",
    "    plt.grid()\n",
    "    plt.legend()"
   ]
  },
  {
   "cell_type": "code",
   "execution_count": 24,
   "metadata": {},
   "outputs": [
    {
     "data": {
      "text/plain": [
       "Text(0, 0.5, 'Выручка коммулятивная')"
      ]
     },
     "execution_count": 24,
     "metadata": {},
     "output_type": "execute_result"
    },
    {
     "data": {
      "image/png": "[encoded data removed]",
      "text/plain": [
       "<Figure size 1152x648 with 1 Axes>"
      ]
     },
     "metadata": {
      "needs_background": "light"
     },
     "output_type": "display_data"
    }
   ],
   "source": [
    "#построим график коммулятивной выручке по группам\n",
    "my_plot(commulative_A['date'], commulative_A['revenue'],commulative_B['date'],commulative_B['revenue'])\n",
    "    \n",
    "plt.title('Коммулятивная выручка групп')\n",
    "plt.xlabel('День')\n",
    "plt.ylabel('Выручка коммулятивная')"
   ]
  },
  {
   "cell_type": "markdown",
   "metadata": {},
   "source": [
    "#### Заметны существенные различия в выручке после 18 августа\n",
    "- Скорее всего на это повлиял выброс: либо большое кол-во заказов, либо высокий чек\n",
    "- До 18 августа выручка в среднем росла одинаково\n",
    "- Также помним, что у нас пользоватей в группе \"В\" на 15.7% больше, чем в группе \"А\""
   ]
  },
  {
   "cell_type": "code",
   "execution_count": 25,
   "metadata": {},
   "outputs": [
    {
     "data": {
      "text/plain": [
       "Text(0, 0.5, 'Средний чек коммулятивный')"
      ]
     },
     "execution_count": 25,
     "metadata": {},
     "output_type": "execute_result"
    },
    {
     "data": {
      "image/png": "[encoded data removed]",
      "text/plain": [
       "<Figure size 1152x648 with 1 Axes>"
      ]
     },
     "metadata": {
      "needs_background": "light"
     },
     "output_type": "display_data"
    }
   ],
   "source": [
    "commulative_A['avg_ticket'] = commulative_A['revenue'] / commulative_A['n_orders']\n",
    "commulative_B['avg_ticket'] = commulative_B['revenue'] / commulative_B['n_orders']\n",
    "\n",
    "#построим график коммулятивного ср.чека\n",
    "my_plot(commulative_A['date'], commulative_A['avg_ticket'], commulative_B['date'], commulative_B['avg_ticket'])\n",
    "\n",
    "plt.axhline(y=7000, color='black', linestyle='--')\n",
    "plt.title('Cредний чек (коммулятивный) по группам')\n",
    "plt.xlabel('День')\n",
    "plt.ylabel('Средний чек коммулятивный')"
   ]
  },
  {
   "cell_type": "markdown",
   "metadata": {},
   "source": [
    "#### Средний чек по группе \"А\" колеблется возле отметки 7000 с 19 августа\n",
    "- До 19 августа движение среднего чека разнонаправленное\n",
    "- Также как и на графике с выручкой наблюдается всплеск значений с 19 августа в группе \"В\". Скорее всего связано аномалией (крупной покупкой)"
   ]
  },
  {
   "cell_type": "code",
   "execution_count": 26,
   "metadata": {},
   "outputs": [
    {
     "data": {
      "text/html": [
       "<div>\n",
       "<style scoped>\n",
       "    .dataframe tbody tr th:only-of-type {\n",
       "        vertical-align: middle;\n",
       "    }\n",
       "\n",
       "    .dataframe tbody tr th {\n",
       "        vertical-align: top;\n",
       "    }\n",
       "\n",
       "    .dataframe thead th {\n",
       "        text-align: right;\n",
       "    }\n",
       "</style>\n",
       "<table border=\"1\" class=\"dataframe\">\n",
       "  <thead>\n",
       "    <tr style=\"text-align: right;\">\n",
       "      <th></th>\n",
       "      <th>date</th>\n",
       "      <th>groupA</th>\n",
       "      <th>n_ordersA</th>\n",
       "      <th>n_usersA</th>\n",
       "      <th>visitorsA</th>\n",
       "      <th>revenueA</th>\n",
       "      <th>avg_ticketA</th>\n",
       "      <th>groupB</th>\n",
       "      <th>n_ordersB</th>\n",
       "      <th>n_usersB</th>\n",
       "      <th>visitorsB</th>\n",
       "      <th>revenueB</th>\n",
       "      <th>avg_ticketB</th>\n",
       "    </tr>\n",
       "  </thead>\n",
       "  <tbody>\n",
       "    <tr>\n",
       "      <th>0</th>\n",
       "      <td>2019-08-01</td>\n",
       "      <td>A</td>\n",
       "      <td>23</td>\n",
       "      <td>19</td>\n",
       "      <td>719</td>\n",
       "      <td>142779</td>\n",
       "      <td>6207.782609</td>\n",
       "      <td>B</td>\n",
       "      <td>17</td>\n",
       "      <td>17</td>\n",
       "      <td>713</td>\n",
       "      <td>59758</td>\n",
       "      <td>3515.176471</td>\n",
       "    </tr>\n",
       "    <tr>\n",
       "      <th>1</th>\n",
       "      <td>2019-08-02</td>\n",
       "      <td>A</td>\n",
       "      <td>42</td>\n",
       "      <td>37</td>\n",
       "      <td>1338</td>\n",
       "      <td>234381</td>\n",
       "      <td>5580.500000</td>\n",
       "      <td>B</td>\n",
       "      <td>40</td>\n",
       "      <td>39</td>\n",
       "      <td>1294</td>\n",
       "      <td>221801</td>\n",
       "      <td>5545.025000</td>\n",
       "    </tr>\n",
       "    <tr>\n",
       "      <th>2</th>\n",
       "      <td>2019-08-03</td>\n",
       "      <td>A</td>\n",
       "      <td>66</td>\n",
       "      <td>61</td>\n",
       "      <td>1845</td>\n",
       "      <td>346854</td>\n",
       "      <td>5255.363636</td>\n",
       "      <td>B</td>\n",
       "      <td>54</td>\n",
       "      <td>53</td>\n",
       "      <td>1803</td>\n",
       "      <td>288850</td>\n",
       "      <td>5349.074074</td>\n",
       "    </tr>\n",
       "    <tr>\n",
       "      <th>3</th>\n",
       "      <td>2019-08-04</td>\n",
       "      <td>A</td>\n",
       "      <td>77</td>\n",
       "      <td>72</td>\n",
       "      <td>2562</td>\n",
       "      <td>388030</td>\n",
       "      <td>5039.350649</td>\n",
       "      <td>B</td>\n",
       "      <td>68</td>\n",
       "      <td>66</td>\n",
       "      <td>2573</td>\n",
       "      <td>385740</td>\n",
       "      <td>5672.647059</td>\n",
       "    </tr>\n",
       "    <tr>\n",
       "      <th>4</th>\n",
       "      <td>2019-08-05</td>\n",
       "      <td>A</td>\n",
       "      <td>99</td>\n",
       "      <td>94</td>\n",
       "      <td>3318</td>\n",
       "      <td>474413</td>\n",
       "      <td>4792.050505</td>\n",
       "      <td>B</td>\n",
       "      <td>89</td>\n",
       "      <td>87</td>\n",
       "      <td>3280</td>\n",
       "      <td>475648</td>\n",
       "      <td>5344.359551</td>\n",
       "    </tr>\n",
       "  </tbody>\n",
       "</table>\n",
       "</div>"
      ],
      "text/plain": [
       "        date groupA  n_ordersA  n_usersA  visitorsA  revenueA  avg_ticketA  \\\n",
       "0 2019-08-01      A         23        19        719    142779  6207.782609   \n",
       "1 2019-08-02      A         42        37       1338    234381  5580.500000   \n",
       "2 2019-08-03      A         66        61       1845    346854  5255.363636   \n",
       "3 2019-08-04      A         77        72       2562    388030  5039.350649   \n",
       "4 2019-08-05      A         99        94       3318    474413  4792.050505   \n",
       "\n",
       "  groupB  n_ordersB  n_usersB  visitorsB  revenueB  avg_ticketB  \n",
       "0      B         17        17        713     59758  3515.176471  \n",
       "1      B         40        39       1294    221801  5545.025000  \n",
       "2      B         54        53       1803    288850  5349.074074  \n",
       "3      B         68        66       2573    385740  5672.647059  \n",
       "4      B         89        87       3280    475648  5344.359551  "
      ]
     },
     "execution_count": 26,
     "metadata": {},
     "output_type": "execute_result"
    }
   ],
   "source": [
    "#соединим таблицы с коммулятивными данными по двум группам\n",
    "commulative_AB = pd.merge(commulative_A, commulative_B, on='date', suffixes=['A','B'])\n",
    "commulative_AB.head()"
   ]
  },
  {
   "cell_type": "code",
   "execution_count": 27,
   "metadata": {},
   "outputs": [
    {
     "data": {
      "text/plain": [
       "<matplotlib.lines.Line2D at 0x22a10c5ffc8>"
      ]
     },
     "execution_count": 27,
     "metadata": {},
     "output_type": "execute_result"
    },
    {
     "data": {
      "image/png": "[encoded data removed]",
      "text/plain": [
       "<Figure size 1152x648 with 1 Axes>"
      ]
     },
     "metadata": {
      "needs_background": "light"
     },
     "output_type": "display_data"
    }
   ],
   "source": [
    "fig, ax = plt.subplots(figsize=(16,9))\n",
    "plt.plot(commulative_AB['date'],\n",
    "         commulative_AB['avg_ticketB'] / commulative_AB['avg_ticketA'] - 1)\n",
    "plt.grid()\n",
    "\n",
    "plt.title('Относительное изменение коммулятивного среднего чека')\n",
    "plt.xlabel('День')\n",
    "plt.ylabel('Отношение ср.чека группы \"В\" к \"А\"')\n",
    "plt.axhline(y=0.0, color='black', linestyle='-')"
   ]
  },
  {
   "cell_type": "markdown",
   "metadata": {},
   "source": [
    "#### До 07 августа рос ср.чек группы \"В\"\n",
    "- Потом пошло его снижение и опять произошел всплеск ср.чека 19 августа, а после пошло опять снижение\n",
    "- После 29 августа наблюдается тенденция к стабилизации относительного ср.чека в районе 0.3"
   ]
  },
  {
   "cell_type": "code",
   "execution_count": 28,
   "metadata": {},
   "outputs": [
    {
     "data": {
      "text/plain": [
       "Text(0, 0.5, 'Конверсия коммулятивная')"
      ]
     },
     "execution_count": 28,
     "metadata": {},
     "output_type": "execute_result"
    },
    {
     "data": {
      "image/png": "[encoded data removed]",
      "text/plain": [
       "<Figure size 1152x648 with 1 Axes>"
      ]
     },
     "metadata": {
      "needs_background": "light"
     },
     "output_type": "display_data"
    }
   ],
   "source": [
    "#добавим поле с конверсией по каждой группе\n",
    "commulative_AB['conversionA'] = commulative_AB['n_usersA'] / commulative_AB['visitorsA']\n",
    "commulative_AB['conversionB'] = commulative_AB['n_usersB'] / commulative_AB['visitorsB']\n",
    "\n",
    "#построим график коммулятивной конверсии\n",
    "my_plot(commulative_AB['date'], commulative_AB['conversionA'],commulative_AB['date'], commulative_AB['conversionB'])\n",
    "\n",
    "plt.axhline(y=0.029, color='orange', linestyle='--')\n",
    "plt.axhline(y=0.025, color='blue', linestyle='--')\n",
    "\n",
    "plt.title('Коммулятивна конверсия по группам')\n",
    "plt.xlabel('День')\n",
    "plt.ylabel('Конверсия коммулятивная')"
   ]
  },
  {
   "cell_type": "markdown",
   "metadata": {},
   "source": [
    "#### Обе конверсии колеблются возле среднего значения\n",
    "- Начиная с 06 августа конверсия группы \"В\" выше, чем группы \"А\"\n",
    "- Примерно конверсия группы \"А\" 2,9%, конверсия группы \"В\" 2,5%"
   ]
  },
  {
   "cell_type": "code",
   "execution_count": 29,
   "metadata": {},
   "outputs": [
    {
     "data": {
      "text/plain": [
       "<matplotlib.lines.Line2D at 0x22a11413908>"
      ]
     },
     "execution_count": 29,
     "metadata": {},
     "output_type": "execute_result"
    },
    {
     "data": {
      "image/png": "[encoded data removed]",
      "text/plain": [
       "<Figure size 1152x648 with 1 Axes>"
      ]
     },
     "metadata": {
      "needs_background": "light"
     },
     "output_type": "display_data"
    }
   ],
   "source": [
    "fig, ax = plt.subplots(figsize=(16,9))\n",
    "plt.plot(commulative_AB['date'],\n",
    "         commulative_AB['conversionB'] / commulative_AB['conversionA'] - 1)\n",
    "plt.grid()\n",
    "\n",
    "plt.title('Относительное изменение коммулятивной конверсии')\n",
    "plt.xlabel('День')\n",
    "plt.ylabel('Отношение конверсии группы \"В\" к \"А\"')\n",
    "plt.axhline(y=0.0, color='black', linestyle='-')\n",
    "plt.axhline(y=0.16, color='black', linestyle='--')"
   ]
  },
  {
   "cell_type": "markdown",
   "metadata": {},
   "source": [
    "#### Конверсия группы \"В\" выше конверсии группы \"А\"\n",
    "- Сначала конверсия группы \"В\" стремительно росла до 10 августа, потом колебалась\n",
    "- Начиная с 23 августа относительная конверсия установилась в районе 0.16"
   ]
  },
  {
   "cell_type": "code",
   "execution_count": 30,
   "metadata": {},
   "outputs": [
    {
     "data": {
      "text/plain": [
       "Text(0, 0.5, 'Кол-во заказов')"
      ]
     },
     "execution_count": 30,
     "metadata": {},
     "output_type": "execute_result"
    },
    {
     "data": {
      "image/png": "[encoded data removed]",
      "text/plain": [
       "<Figure size 1152x648 with 1 Axes>"
      ]
     },
     "metadata": {
      "needs_background": "light"
     },
     "output_type": "display_data"
    }
   ],
   "source": [
    "#посчитаем, сколько заказов было сделано каждым пользователем\n",
    "orders_per_user = orders.groupby('visitorId', as_index=False).agg({'transactionId':'nunique'})\n",
    "\n",
    "fig, ax = plt.subplots(figsize=(16,9))\n",
    "plt.scatter(orders_per_user.index, orders_per_user['transactionId'], alpha=0.5)\n",
    "plt.title('Распределение кол-во заказов по пользователям')\n",
    "plt.xlabel('Порядковый номер пользователя')\n",
    "plt.ylabel('Кол-во заказов')"
   ]
  },
  {
   "cell_type": "markdown",
   "metadata": {},
   "source": [
    "#### Большинство пользователей сделало не более одного заказа\n",
    "- Иногда делают 2 заказа. Но более уже редкость и отклонение"
   ]
  },
  {
   "cell_type": "code",
   "execution_count": 31,
   "metadata": {},
   "outputs": [
    {
     "data": {
      "text/plain": [
       "array([1., 2.])"
      ]
     },
     "metadata": {},
     "output_type": "display_data"
    }
   ],
   "source": [
    "#посмотрим 95 и 99й перцентили кол-ва заказов\n",
    "display(np.percentile(orders_per_user['transactionId'], [95, 99]))"
   ]
  },
  {
   "cell_type": "markdown",
   "metadata": {},
   "source": [
    "#### Принимаем границу аномальных заказов более 1\n",
    "- Будем считать 1 заказ нормальным (НЕаномальным). В этот критерий попадает 95% всех пользователей"
   ]
  },
  {
   "cell_type": "code",
   "execution_count": 32,
   "metadata": {},
   "outputs": [
    {
     "data": {
      "text/plain": [
       "Text(0, 0.5, 'Стоимость заказа')"
      ]
     },
     "execution_count": 32,
     "metadata": {},
     "output_type": "execute_result"
    },
    {
     "data": {
      "image/png": "[encoded data removed]",
      "text/plain": [
       "<Figure size 1152x648 with 1 Axes>"
      ]
     },
     "metadata": {
      "needs_background": "light"
     },
     "output_type": "display_data"
    }
   ],
   "source": [
    "#посмотрим на распределение стоимости заказов\n",
    "fig, ax = plt.subplots(figsize=(16,9))\n",
    "plt.scatter(orders.index, orders['revenue'], alpha=0.5)\n",
    "plt.title('Распределение стоимости заказов по пользователям')\n",
    "plt.xlabel('Порядковый номер заказа')\n",
    "plt.ylabel('Стоимость заказа')"
   ]
  },
  {
   "cell_type": "code",
   "execution_count": 44,
   "metadata": {},
   "outputs": [
    {
     "data": {
      "text/html": [
       "<div>\n",
       "<style scoped>\n",
       "    .dataframe tbody tr th:only-of-type {\n",
       "        vertical-align: middle;\n",
       "    }\n",
       "\n",
       "    .dataframe tbody tr th {\n",
       "        vertical-align: top;\n",
       "    }\n",
       "\n",
       "    .dataframe thead th {\n",
       "        text-align: right;\n",
       "    }\n",
       "</style>\n",
       "<table border=\"1\" class=\"dataframe\">\n",
       "  <thead>\n",
       "    <tr style=\"text-align: right;\">\n",
       "      <th></th>\n",
       "      <th>transactionId</th>\n",
       "      <th>visitorId</th>\n",
       "      <th>date</th>\n",
       "      <th>revenue</th>\n",
       "      <th>group</th>\n",
       "    </tr>\n",
       "  </thead>\n",
       "  <tbody>\n",
       "    <tr>\n",
       "      <th>655</th>\n",
       "      <td>590470918</td>\n",
       "      <td>1920142716</td>\n",
       "      <td>2019-08-19</td>\n",
       "      <td>1294500</td>\n",
       "      <td>B</td>\n",
       "    </tr>\n",
       "    <tr>\n",
       "      <th>1015</th>\n",
       "      <td>3936777065</td>\n",
       "      <td>2108080724</td>\n",
       "      <td>2019-08-15</td>\n",
       "      <td>202740</td>\n",
       "      <td>B</td>\n",
       "    </tr>\n",
       "  </tbody>\n",
       "</table>\n",
       "</div>"
      ],
      "text/plain": [
       "      transactionId   visitorId       date  revenue group\n",
       "655       590470918  1920142716 2019-08-19  1294500     B\n",
       "1015     3936777065  2108080724 2019-08-15   202740     B"
      ]
     },
     "execution_count": 44,
     "metadata": {},
     "output_type": "execute_result"
    }
   ],
   "source": [
    "#посмотрим, что за заказы выше 150 000\n",
    "orders.query('revenue > 150000')"
   ]
  },
  {
   "cell_type": "markdown",
   "metadata": {},
   "source": [
    "#### Большинство заказов стоят не более 50 000\n",
    "- Есть значительные выбросы 1 300 000 и 200 000 и оба находятся в группе \"В\".\n",
    "Это как раз и подтвердает наши предположения, что скачек на графике среднего чека как раз связан с выбросами"
   ]
  },
  {
   "cell_type": "code",
   "execution_count": 33,
   "metadata": {},
   "outputs": [
    {
     "data": {
      "text/plain": [
       "array([26785., 53904.])"
      ]
     },
     "metadata": {},
     "output_type": "display_data"
    }
   ],
   "source": [
    "#посмотрим на перцентили, чтобы понять границу аномальной стоимости заказа\n",
    "display(np.percentile(orders['revenue'], [95, 99]))"
   ]
  },
  {
   "cell_type": "markdown",
   "metadata": {},
   "source": [
    "#### В качестве аномальной будем считать заказ со стоимостью заказа более 26 785\n",
    "- 95% всех сделанных заказов имеют стоимость 26 785 и меньше"
   ]
  },
  {
   "cell_type": "markdown",
   "metadata": {},
   "source": [
    "### 2.3. Расчет статистической значимости параметров групп<a class=\"anchor\" id=\"2.3\"></a>"
   ]
  },
  {
   "cell_type": "markdown",
   "metadata": {},
   "source": [
    "#### 2.3.1. Рассчет конверсии и среднего чека по \"сырым\" данным<a class=\"anchor\" id=\"2.3.1\"></a>\n",
    "а) Для расчета конверсии создадим таблицы, в которой каждому пользователю найдем кол-во заказов. В таблице выведем даже пользователей с нулевыми заказами. Тогда средняя по всем заказам будет конверсия в соответствующей группе"
   ]
  },
  {
   "cell_type": "code",
   "execution_count": 34,
   "metadata": {},
   "outputs": [],
   "source": [
    "#создадим таблицу для каждой группы, в которой для каждого пользователя выведем кол-во совершенных заказов\n",
    "orders_per_userA = (orders\n",
    "                    .query('group == \"A\"')\n",
    "                    .groupby('visitorId', as_index=False)\n",
    "                    .agg({'transactionId':'nunique'}).sort_values('transactionId')\n",
    "                   )\n",
    "orders_per_userA.columns = ['visitorId', 'n_orders']\n",
    "\n",
    "orders_per_userB = (orders\n",
    "                    .query('group == \"B\"')\n",
    "                    .groupby('visitorId', as_index=False)\n",
    "                    .agg({'transactionId':'nunique'}).sort_values('transactionId')\n",
    "                   )\n",
    "orders_per_userB.columns = ['visitorId', 'n_orders']\n"
   ]
  },
  {
   "cell_type": "code",
   "execution_count": 35,
   "metadata": {},
   "outputs": [],
   "source": [
    "#к пользователям, которые совершили покупки, добавим пользователей не совершивших покупки, то есть с 0 заказов\n",
    "sampleA = pd.concat([orders_per_userA['n_orders'],\n",
    "                     pd.Series(0, index=np.arange(visitors.query('group == \"A\"')['visitors'].sum() - \n",
    "                                                  len(orders_per_userA['n_orders'])), name='n_orders')], axis=0)\n",
    "sampleB = pd.concat([orders_per_userB['n_orders'],\n",
    "                     pd.Series(0, index=np.arange(visitors.query('group == \"B\"')['visitors'].sum() - \n",
    "                                                  len(orders_per_userB['n_orders'])), name='n_orders')], axis=0)"
   ]
  },
  {
   "cell_type": "code",
   "execution_count": 36,
   "metadata": {},
   "outputs": [
    {
     "name": "stdout",
     "output_type": "stream",
     "text": [
      "p-value:0.006\n",
      "Относительная разница конверсии группы В к А:16.0%\n",
      "Нулевая гипотеза отвергается\n"
     ]
    }
   ],
   "source": [
    "#выдвенем гипотезу (H0), что конверсии по группам равны\n",
    "#H1 - альтернативная гипотеза, что конверсии не равны\n",
    "\n",
    "#в качестве уровня значимости принимаем значение 0.05\n",
    "alpha = 0.05\n",
    "\n",
    "#p-value будем искать по критерию Манна-Уитни,\n",
    "#так как распределения не похожи на нормальные у нужно сравнить средние 2х выборок\n",
    "print(\"p-value:{0:.3f}\".format(st.mannwhitneyu(sampleA, sampleB)[1]))\n",
    "print(\"Относительная разница конверсии группы В к А:{0:.1%}\".format(sampleB.mean()/sampleA.mean()-1))\n",
    "\n",
    "if st.mannwhitneyu(sampleA, sampleB)[1] < alpha:\n",
    "    print(\"Нулевая гипотеза отвергается\")\n",
    "else:\n",
    "    print(\"Нельзя отвергнуть нулевую гипотезу\")"
   ]
  },
  {
   "cell_type": "markdown",
   "metadata": {},
   "source": [
    "#### Конверсии групп различаются\n",
    "- Нулевая гипотеза отвернута. Поэтому принимаем Н1 - конверсии групп не равны\n",
    "- Конверсия группы \"В\" на 16% выше, чем конверсия группы \"А\""
   ]
  },
  {
   "cell_type": "markdown",
   "metadata": {},
   "source": [
    "b) Расчитаем средний чек по таблице с заказами('orders').\n",
    "Поле выручки для каждого заказа в данном случае выступает стоимостью заказа. Средняя по всем стоимостям заказов и будет средним чеком"
   ]
  },
  {
   "cell_type": "code",
   "execution_count": 37,
   "metadata": {},
   "outputs": [],
   "source": [
    "#разделим таблицу с заказами по группа и оставим только стоимость заказа\n",
    "sampleA = orders.query('group == \"A\"')['revenue']\n",
    "sampleB = orders.query('group == \"B\"')['revenue']"
   ]
  },
  {
   "cell_type": "code",
   "execution_count": 38,
   "metadata": {},
   "outputs": [
    {
     "name": "stdout",
     "output_type": "stream",
     "text": [
      "p-value:0.415\n",
      "Относительная разница ср.чеков группы В к А:28.7%\n",
      "Нельзя отвергнуть нулевую гипотезу\n"
     ]
    }
   ],
   "source": [
    "#выдвенем гипотезу (H0), что средние чеки по группам равны\n",
    "#H1 - альтернативная гипотеза, что средние не равны\n",
    "\n",
    "#в качестве уровня значимости принимаем значение 0.05\n",
    "alpha = 0.05\n",
    "\n",
    "#p-value будем искать по критерию Манна-Уитни,\n",
    "#так как распределения не похожи на нормальные у нужно сравнить средние 2х выборок\n",
    "print(\"p-value:{0:.3f}\".format(st.mannwhitneyu(sampleA, sampleB)[1]))\n",
    "print(\"Относительная разница ср.чеков группы В к А:{0:.1%}\".format(sampleB.mean()/sampleA.mean()-1))\n",
    "\n",
    "if st.mannwhitneyu(sampleA, sampleB)[1] < alpha:\n",
    "    print(\"Нулевая гипотеза отвергается\")\n",
    "else:\n",
    "    print(\"Нельзя отвергнуть нулевую гипотезу\")"
   ]
  },
  {
   "cell_type": "markdown",
   "metadata": {},
   "source": [
    "#### Нет различий в среднем чеке группы \"А\" и \"В\"\n",
    "- Так как p-value больше уровня значимости (0.05), то нет основания отклонять нулевую гипотезу, что средние чеки данных групп равны. Хотя средний чек в группе \"В\" больше на 28.7%, чем в группе \"А\""
   ]
  },
  {
   "cell_type": "markdown",
   "metadata": {},
   "source": [
    "#### 2.3.2. Рассчет конверсии и среднего чека по \"очищенным\" данным<a class=\"anchor\" id=\"2.3.2\"></a>"
   ]
  },
  {
   "cell_type": "markdown",
   "metadata": {},
   "source": [
    "a) Найдем всех пользователей, которые совершали аномальные действия: делали более одного заказа и стоимость заказа была более 26 785"
   ]
  },
  {
   "cell_type": "code",
   "execution_count": 39,
   "metadata": {},
   "outputs": [
    {
     "data": {
      "text/plain": [
       "86"
      ]
     },
     "execution_count": 39,
     "metadata": {},
     "output_type": "execute_result"
    }
   ],
   "source": [
    "#сохраним в переменной все уникальные Id посетилелей, которые попадают под условия анамального поведения\n",
    "abnormal_users = pd.concat([orders_per_userA.query('n_orders > 1')['visitorId'],\n",
    "                         orders_per_userB.query('n_orders > 1')['visitorId'],\n",
    "                        orders.query('revenue > 26785')['visitorId']]).unique()\n",
    "len(abnormal_users)"
   ]
  },
  {
   "cell_type": "markdown",
   "metadata": {},
   "source": [
    "#### Аномальное поведение наблюдается у 86 пользователей"
   ]
  },
  {
   "cell_type": "markdown",
   "metadata": {},
   "source": [
    "b) Найдем конверсию по очищенным данным по аналогии как делали с неочищенными"
   ]
  },
  {
   "cell_type": "code",
   "execution_count": 40,
   "metadata": {},
   "outputs": [],
   "source": [
    "#создадим таблица пользователь-кол-во заказов\n",
    "#оставим в таблицах только пользователей с нормальным поведением\n",
    "pure_sampleA = pd.concat([orders_per_userA[~orders_per_userA['visitorId'].isin(abnormal_users)]['n_orders'],\n",
    "                     pd.Series(0, index=np.arange(visitors.query('group == \"A\"')['visitors'].sum() - \n",
    "                                                  len(orders_per_userA['n_orders'])), name='n_orders')], axis=0)\n",
    "pure_sampleB = pd.concat([orders_per_userB[~orders_per_userB['visitorId'].isin(abnormal_users)]['n_orders'],\n",
    "                     pd.Series(0, index=np.arange(visitors.query('group == \"B\"')['visitors'].sum() - \n",
    "                                                  len(orders_per_userB['n_orders'])), name='n_orders')], axis=0)"
   ]
  },
  {
   "cell_type": "code",
   "execution_count": 41,
   "metadata": {},
   "outputs": [
    {
     "name": "stdout",
     "output_type": "stream",
     "text": [
      "p-value:0.008\n",
      "Относительная разница конверсии группы В к А:17.4%\n",
      "Нулевая гипотеза отвергается\n"
     ]
    }
   ],
   "source": [
    "#выдвенем гипотезу (H0), что средние конверсии по группам равны\n",
    "#H1 - альтернативная гипотеза, что средние не равны\n",
    "\n",
    "#в качестве уровня значимости принимаем значение 0.05\n",
    "alpha = 0.05\n",
    "\n",
    "#p-value будем искать по критерию Манна-Уитни,\n",
    "#так как распределения не похожи на нормальные у нужно сравнить средние 2х выборок\n",
    "print(\"p-value:{0:.3f}\".format(st.mannwhitneyu(pure_sampleA, pure_sampleB)[1]))\n",
    "print(\"Относительная разница конверсии группы В к А:{0:.1%}\".format(pure_sampleB.mean()/pure_sampleA.mean()-1))\n",
    "\n",
    "if st.mannwhitneyu(pure_sampleA, pure_sampleB)[1] < alpha:\n",
    "    print(\"Нулевая гипотеза отвергается\")\n",
    "else:\n",
    "    print(\"Нельзя отвергнуть нулевую гипотезу\")"
   ]
  },
  {
   "cell_type": "markdown",
   "metadata": {},
   "source": [
    "#### Конверсии групп различаются и на чистых данных\n",
    "- Отличие в конверсиях группы \"В\" от \"А\" увеличилось и составило 17.4%"
   ]
  },
  {
   "cell_type": "markdown",
   "metadata": {},
   "source": [
    "с) Найдем средний чек по очищенным данным по аналогии как делали с неочищенными"
   ]
  },
  {
   "cell_type": "code",
   "execution_count": 42,
   "metadata": {},
   "outputs": [],
   "source": [
    "#разделим таблицу с заказами по группа и оставим только стоимость заказа\n",
    "pure_sampleA = orders[(~orders['visitorId'].isin(abnormal_users)) & (orders['group'] == \"A\")]['revenue']\n",
    "pure_sampleB = orders[(~orders['visitorId'].isin(abnormal_users)) & (orders['group'] == \"B\")]['revenue']"
   ]
  },
  {
   "cell_type": "code",
   "execution_count": 43,
   "metadata": {},
   "outputs": [
    {
     "name": "stdout",
     "output_type": "stream",
     "text": [
      "p-value:0.364\n",
      "Относительная разница ср.чеков группы В к А:-3.4%\n",
      "Нельзя отвергнуть нулевую гипотезу\n"
     ]
    }
   ],
   "source": [
    "#выдвенем гипотезу (H0), что средние чеки по группам равны\n",
    "#H1 - альтернативная гипотеза, что средние не равны\n",
    "\n",
    "#в качестве уровня значимости принимаем значение 0.05\n",
    "alpha = 0.05\n",
    "\n",
    "#p-value будем искать по критерию Манна-Уитни,\n",
    "#так как распределения не похожи на нормальные у нужно сравнить средние 2х выборок\n",
    "print(\"p-value:{0:.3f}\".format(st.mannwhitneyu(pure_sampleA, pure_sampleB)[1]))\n",
    "print(\"Относительная разница ср.чеков группы В к А:{0:.1%}\".format(pure_sampleB.mean()/pure_sampleA.mean()-1))\n",
    "\n",
    "if st.mannwhitneyu(pure_sampleA, pure_sampleB)[1] < alpha:\n",
    "    print(\"Нулевая гипотеза отвергается\")\n",
    "else:\n",
    "    print(\"Нельзя отвергнуть нулевую гипотезу\")"
   ]
  },
  {
   "cell_type": "markdown",
   "metadata": {},
   "source": [
    "#### Нет различий в среднем чеке группы \"А\" и \"В\"\n",
    "- Так как p-value больше уровня значимости (0.05), то нет основания отклонять нулевую гипотезу, что средние чеки данных групп равны\n",
    "- Средний чек на очищенных данных в группе \"В\", чем в группе \"А\" стал меньше на 3.4% (по сырым данных ср.чек группы \"В\" был выше). Как и предполагалось, аномально большие чеки в группе \"В\" повляли на средние значения."
   ]
  },
  {
   "cell_type": "markdown",
   "metadata": {},
   "source": [
    "### Часть 3. Выводы<a class=\"anchor\" id=\"3\"></a>"
   ]
  },
  {
   "cell_type": "markdown",
   "metadata": {},
   "source": [
    "- Среди предоставленных 9ти гипотез методом RICE выбрали гипотезу \"Добавить форму подписки на все основные страницы, чтобы собрать базу клиентов для email-рассылок\"\n",
    "- Есть статистически значимое различие в конверсиях групп как на \"сырых\", так и на очищенных данных\n",
    "- Относительный график конверсии группы \"В\" к \"А\" показывает, что результаты стабилизировались и на данный момент составляют 17.4%. То есть конверсия группы \"В\" выше\n",
    " - Статистической значимости в средних чеках нет как на \"сырых\" данных, так и на очищенных\n",
    "\n",
    " \n",
    "<b>Решение: Остановить тест, зафиксировать отсутствие различий между группами</b>\n",
    "- Признать тест успешным. Группа \"В\" показывает более высокие результаты по конверсии"
   ]
  },
  {
   "cell_type": "code",
   "execution_count": null,
   "metadata": {},
   "outputs": [],
   "source": []
  }
 ],
 "metadata": {
  "kernelspec": {
   "display_name": "Python 3",
   "language": "python",
   "name": "python3"
  },
  "language_info": {
   "codemirror_mode": {
    "name": "ipython",
    "version": 3
   },
   "file_extension": ".py",
   "mimetype": "text/x-python",
   "name": "python",
   "nbconvert_exporter": "python",
   "pygments_lexer": "ipython3",
   "version": "3.8.3"
  }
 },
 "nbformat": 4,
 "nbformat_minor": 2
}
